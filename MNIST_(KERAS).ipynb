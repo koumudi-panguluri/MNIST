{
  "nbformat": 4,
  "nbformat_minor": 0,
  "metadata": {
    "kernelspec": {
      "name": "python3",
      "display_name": "Python 3"
    },
    "language_info": {
      "codemirror_mode": {
        "name": "ipython",
        "version": 3
      },
      "file_extension": ".py",
      "mimetype": "text/x-python",
      "name": "python",
      "nbconvert_exporter": "python",
      "pygments_lexer": "ipython3",
      "version": "3.6.8"
    },
    "colab": {
      "name": "MNIST (KERAS).ipynb",
      "provenance": [],
      "include_colab_link": true
    },
    "accelerator": "GPU"
  },
  "cells": [
    {
      "cell_type": "markdown",
      "metadata": {
        "id": "view-in-github",
        "colab_type": "text"
      },
      "source": [
        "<a href=\"https://colab.research.google.com/github/koumudi-panguluri/MNIST/blob/master/MNIST_(KERAS).ipynb\" target=\"_parent\"><img src=\"https://colab.research.google.com/assets/colab-badge.svg\" alt=\"Open In Colab\"/></a>"
      ]
    },
    {
      "cell_type": "code",
      "metadata": {
        "id": "fr4EyuX95nHw",
        "colab_type": "code",
        "outputId": "9681db8d-875c-470e-e9fa-ad2436164067",
        "colab": {
          "base_uri": "https://localhost:8080/",
          "height": 34
        }
      },
      "source": [
        "from keras.datasets import mnist\n"
      ],
      "execution_count": 0,
      "outputs": [
        {
          "output_type": "stream",
          "text": [
            "Using TensorFlow backend.\n"
          ],
          "name": "stderr"
        }
      ]
    },
    {
      "cell_type": "code",
      "metadata": {
        "id": "lRBHX53T5nH4",
        "colab_type": "code",
        "outputId": "6260ac66-29cf-4321-fac6-ae06421304c9",
        "colab": {
          "base_uri": "https://localhost:8080/",
          "height": 51
        }
      },
      "source": [
        "(x_train,y_train),(x_test,y_test)=mnist.load_data()"
      ],
      "execution_count": 0,
      "outputs": [
        {
          "output_type": "stream",
          "text": [
            "Downloading data from https://s3.amazonaws.com/img-datasets/mnist.npz\n",
            "11493376/11490434 [==============================] - 1s 0us/step\n"
          ],
          "name": "stdout"
        }
      ]
    },
    {
      "cell_type": "code",
      "metadata": {
        "id": "nTf6d3o65nIA",
        "colab_type": "code",
        "colab": {}
      },
      "source": [
        "#print(image_shape)"
      ],
      "execution_count": 0,
      "outputs": []
    },
    {
      "cell_type": "code",
      "metadata": {
        "id": "dXDbXU-15nIF",
        "colab_type": "code",
        "colab": {}
      },
      "source": [
        "img_rows=x_train[0].shape[0]\n",
        "img_cols=x_train[1].shape[0]\n",
        "image_shape=(img_rows,img_cols,1)\n",
        "x_train=x_train.reshape(x_train.shape[0],img_rows,img_cols,1)\n",
        "x_test=x_test.reshape(x_test.shape[0],x_test[0].shape[0],x_test[1].shape[0],1)\n",
        "x_train=x_train.astype('float32')\n",
        "x_test=x_test.astype('float32')\n",
        "x_train/=255\n",
        "x_test/=255\n",
        "import keras.utils\n",
        "y_train=keras.utils.to_categorical(y_train)\n",
        "y_test=keras.utils.to_categorical(y_test)"
      ],
      "execution_count": 0,
      "outputs": []
    },
    {
      "cell_type": "code",
      "metadata": {
        "id": "lGbZRVkB5nIJ",
        "colab_type": "code",
        "outputId": "0d6ae6c2-3b94-44c4-ab0f-39c17d43ece0",
        "colab": {
          "base_uri": "https://localhost:8080/",
          "height": 34
        }
      },
      "source": [
        "print(y_test[0].shape[0])"
      ],
      "execution_count": 0,
      "outputs": [
        {
          "output_type": "stream",
          "text": [
            "10\n"
          ],
          "name": "stdout"
        }
      ]
    },
    {
      "cell_type": "code",
      "metadata": {
        "id": "VbMIhJVe5nIQ",
        "colab_type": "code",
        "colab": {}
      },
      "source": [
        "from keras.layers import Conv2D,MaxPooling2D\n",
        "from keras.layers import Dense,Dropout,Flatten\n",
        "from keras import backend as K\n",
        "from keras.models import Sequential\n",
        "from keras.optimizers import SGD"
      ],
      "execution_count": 0,
      "outputs": []
    },
    {
      "cell_type": "code",
      "metadata": {
        "id": "Q8jIZzVw5nIU",
        "colab_type": "code",
        "outputId": "3590f1f4-3a16-461b-b990-6504c28191f6",
        "colab": {
          "base_uri": "https://localhost:8080/",
          "height": 326
        }
      },
      "source": [
        "num_classes=y_test[0].shape[0]\n",
        "model=Sequential()\n",
        "model.add(Conv2D(32,kernel_size=(3,3),activation='relu',input_shape=image_shape))\n",
        "model.add(Conv2D(64,(3,3),activation='relu'))\n",
        "model.add(MaxPooling2D(pool_size=(2,2)))\n",
        "model.add(Dropout(0.25))\n",
        "model.add(Flatten())\n",
        "model.add(Dense(128,activation='relu'))\n",
        "model.add(Dropout(0.5))\n",
        "model.add(Dense(num_classes,activation='softmax'))\n",
        "model.compile(loss='categorical_crossentropy',optimizer=SGD(0.01),metrics=['accuracy'])"
      ],
      "execution_count": 0,
      "outputs": [
        {
          "output_type": "stream",
          "text": [
            "WARNING:tensorflow:From /usr/local/lib/python3.6/dist-packages/keras/backend/tensorflow_backend.py:66: The name tf.get_default_graph is deprecated. Please use tf.compat.v1.get_default_graph instead.\n",
            "\n",
            "WARNING:tensorflow:From /usr/local/lib/python3.6/dist-packages/keras/backend/tensorflow_backend.py:541: The name tf.placeholder is deprecated. Please use tf.compat.v1.placeholder instead.\n",
            "\n",
            "WARNING:tensorflow:From /usr/local/lib/python3.6/dist-packages/keras/backend/tensorflow_backend.py:4432: The name tf.random_uniform is deprecated. Please use tf.random.uniform instead.\n",
            "\n",
            "WARNING:tensorflow:From /usr/local/lib/python3.6/dist-packages/keras/backend/tensorflow_backend.py:4267: The name tf.nn.max_pool is deprecated. Please use tf.nn.max_pool2d instead.\n",
            "\n",
            "WARNING:tensorflow:From /usr/local/lib/python3.6/dist-packages/keras/backend/tensorflow_backend.py:148: The name tf.placeholder_with_default is deprecated. Please use tf.compat.v1.placeholder_with_default instead.\n",
            "\n",
            "WARNING:tensorflow:From /usr/local/lib/python3.6/dist-packages/keras/backend/tensorflow_backend.py:3733: calling dropout (from tensorflow.python.ops.nn_ops) with keep_prob is deprecated and will be removed in a future version.\n",
            "Instructions for updating:\n",
            "Please use `rate` instead of `keep_prob`. Rate should be set to `rate = 1 - keep_prob`.\n",
            "WARNING:tensorflow:From /usr/local/lib/python3.6/dist-packages/keras/optimizers.py:793: The name tf.train.Optimizer is deprecated. Please use tf.compat.v1.train.Optimizer instead.\n",
            "\n",
            "WARNING:tensorflow:From /usr/local/lib/python3.6/dist-packages/keras/backend/tensorflow_backend.py:3576: The name tf.log is deprecated. Please use tf.math.log instead.\n",
            "\n"
          ],
          "name": "stdout"
        }
      ]
    },
    {
      "cell_type": "code",
      "metadata": {
        "id": "d0XUPf8z5nIb",
        "colab_type": "code",
        "outputId": "be78c6fb-d118-4111-c510-3c29ab331176",
        "colab": {
          "base_uri": "https://localhost:8080/",
          "height": 445
        }
      },
      "source": [
        "history=model.fit(x_train,y_train,epochs=10,batch_size=32,verbose=1,validation_data=(x_test,y_test))"
      ],
      "execution_count": 0,
      "outputs": [
        {
          "output_type": "stream",
          "text": [
            "WARNING:tensorflow:From /usr/local/lib/python3.6/dist-packages/tensorflow/python/ops/math_grad.py:1250: add_dispatch_support.<locals>.wrapper (from tensorflow.python.ops.array_ops) is deprecated and will be removed in a future version.\n",
            "Instructions for updating:\n",
            "Use tf.where in 2.0, which has the same broadcast rule as np.where\n",
            "Train on 60000 samples, validate on 10000 samples\n",
            "Epoch 1/10\n",
            "60000/60000 [==============================] - 16s 270us/step - loss: 0.5925 - acc: 0.8144 - val_loss: 0.1956 - val_acc: 0.9423\n",
            "Epoch 2/10\n",
            "60000/60000 [==============================] - 9s 151us/step - loss: 0.3006 - acc: 0.9087 - val_loss: 0.1396 - val_acc: 0.9567\n",
            "Epoch 3/10\n",
            "60000/60000 [==============================] - 9s 151us/step - loss: 0.2269 - acc: 0.9323 - val_loss: 0.1101 - val_acc: 0.9664\n",
            "Epoch 4/10\n",
            "60000/60000 [==============================] - 9s 149us/step - loss: 0.1767 - acc: 0.9476 - val_loss: 0.0877 - val_acc: 0.9730\n",
            "Epoch 5/10\n",
            "60000/60000 [==============================] - 9s 148us/step - loss: 0.1431 - acc: 0.9571 - val_loss: 0.0677 - val_acc: 0.9796\n",
            "Epoch 6/10\n",
            "60000/60000 [==============================] - 9s 148us/step - loss: 0.1232 - acc: 0.9628 - val_loss: 0.0584 - val_acc: 0.9823\n",
            "Epoch 7/10\n",
            "60000/60000 [==============================] - 9s 148us/step - loss: 0.1096 - acc: 0.9668 - val_loss: 0.0550 - val_acc: 0.9832\n",
            "Epoch 8/10\n",
            "60000/60000 [==============================] - 9s 149us/step - loss: 0.0996 - acc: 0.9706 - val_loss: 0.0467 - val_acc: 0.9842\n",
            "Epoch 9/10\n",
            "60000/60000 [==============================] - 9s 147us/step - loss: 0.0920 - acc: 0.9725 - val_loss: 0.0431 - val_acc: 0.9875\n",
            "Epoch 10/10\n",
            "60000/60000 [==============================] - 9s 147us/step - loss: 0.0858 - acc: 0.9739 - val_loss: 0.0408 - val_acc: 0.9875\n"
          ],
          "name": "stdout"
        }
      ]
    },
    {
      "cell_type": "code",
      "metadata": {
        "id": "b5ybb1cA5nIf",
        "colab_type": "code",
        "outputId": "16d23ffa-a2b9-4c78-f8e7-5f127167374d",
        "colab": {
          "base_uri": "https://localhost:8080/",
          "height": 51
        }
      },
      "source": [
        "score=model.evaluate(x_test,y_test,verbose=0)\n",
        "print(\"LOSS : \", score[0])\n",
        "print(\"ACCURACY : \", score[1])"
      ],
      "execution_count": 0,
      "outputs": [
        {
          "output_type": "stream",
          "text": [
            "LOSS :  0.04082589428985957\n",
            "ACCURACY :  0.9875\n"
          ],
          "name": "stdout"
        }
      ]
    },
    {
      "cell_type": "code",
      "metadata": {
        "id": "76cmGxnC5nIk",
        "colab_type": "code",
        "colab": {}
      },
      "source": [
        "from keras.models import load_model\n",
        "model.save('C:\\\\Users\\\\koumudi\\\\DeepLearningCV\\\\My practice\\\\images\\\\mnistByMe.h5')"
      ],
      "execution_count": 0,
      "outputs": []
    },
    {
      "cell_type": "code",
      "metadata": {
        "id": "tecrfDsC5nIq",
        "colab_type": "code",
        "colab": {}
      },
      "source": [
        "from keras.models import load_model\n",
        "classifier=load_model('C:\\\\Users\\\\koumudi\\\\DeepLearningCV\\\\My practice\\\\images\\\\mnistByMe.h5')"
      ],
      "execution_count": 0,
      "outputs": []
    },
    {
      "cell_type": "code",
      "metadata": {
        "id": "lH0SBUSy5nIx",
        "colab_type": "code",
        "outputId": "b7c0670e-1bce-4d57-e550-c2d2772c4cd7",
        "colab": {
          "base_uri": "https://localhost:8080/",
          "height": 1000
        }
      },
      "source": [
        "import cv2\n",
        "import numpy as np\n",
        "from google.colab.patches import cv2_imshow\n",
        "def draw_test(name,pred,image_im):\n",
        "    e=cv2.copyMakeBorder(image_im,1,0,0,img.shape[0],cv2.BORDER_CONSTANT,value=[0,0,0])\n",
        "    e=cv2.cvtColor(e,cv2.COLOR_GRAY2BGR)\n",
        "    cv2.putText(e,str(pred),(152,70),cv2.FONT_HERSHEY_COMPLEX_SMALL,4,(0,255,120),2)\n",
        "    cv2_imshow(e)\n",
        "    \n",
        "for i in range(0,10):\n",
        "    random=np.random.randint(0,len(x_test))\n",
        "    image_im=x_test[random]\n",
        "    print(y_test[random].argmax(axis=0))\n",
        "    img=cv2.resize(image_im,None,fx=4,fy=4,interpolation=cv2.INTER_CUBIC)\n",
        "    image_im=image_im.reshape(1,28,28,1)\n",
        "    res=(classifier.predict_classes(image_im,1,verbose=0)[0])\n",
        "    draw_test('Prediction',res,img)\n",
        "    cv2.waitKey(0)\n",
        "cv2.destroyAllWindows()\n"
      ],
      "execution_count": 0,
      "outputs": [
        {
          "output_type": "stream",
          "text": [
            "3\n"
          ],
          "name": "stdout"
        },
        {
          "output_type": "display_data",
          "data": {
            "image/png": "[encoded data removed]",
            "text/plain": [
              "<PIL.Image.Image image mode=RGB size=224x113 at 0x7FCF180BF320>"
            ]
          },
          "metadata": {
            "tags": []
          }
        },
        {
          "output_type": "stream",
          "text": [
            "4\n"
          ],
          "name": "stdout"
        },
        {
          "output_type": "display_data",
          "data": {
            "image/png": "[encoded data removed]",
            "text/plain": [
              "<PIL.Image.Image image mode=RGB size=224x113 at 0x7FCF1803BCF8>"
            ]
          },
          "metadata": {
            "tags": []
          }
        },
        {
          "output_type": "stream",
          "text": [
            "2\n"
          ],
          "name": "stdout"
        },
        {
          "output_type": "display_data",
          "data": {
            "image/png": "[encoded data removed]",
            "text/plain": [
              "<PIL.Image.Image image mode=RGB size=224x113 at 0x7FCF1803BCF8>"
            ]
          },
          "metadata": {
            "tags": []
          }
        },
        {
          "output_type": "stream",
          "text": [
            "8\n"
          ],
          "name": "stdout"
        },
        {
          "output_type": "display_data",
          "data": {
            "image/png": "[encoded data removed]",
            "text/plain": [
              "<PIL.Image.Image image mode=RGB size=224x113 at 0x7FCF1803BEB8>"
            ]
          },
          "metadata": {
            "tags": []
          }
        },
        {
          "output_type": "stream",
          "text": [
            "8\n"
          ],
          "name": "stdout"
        },
        {
          "output_type": "display_data",
          "data": {
            "image/png": "[encoded data removed]",
            "text/plain": [
              "<PIL.Image.Image image mode=RGB size=224x113 at 0x7FCF1803BCF8>"
            ]
          },
          "metadata": {
            "tags": []
          }
        },
        {
          "output_type": "stream",
          "text": [
            "0\n"
          ],
          "name": "stdout"
        },
        {
          "output_type": "display_data",
          "data": {
            "image/png": "[encoded data removed]",
            "text/plain": [
              "<PIL.Image.Image image mode=RGB size=224x113 at 0x7FCF1803BD30>"
            ]
          },
          "metadata": {
            "tags": []
          }
        },
        {
          "output_type": "stream",
          "text": [
            "9\n"
          ],
          "name": "stdout"
        },
        {
          "output_type": "display_data",
          "data": {
            "image/png": "[encoded data removed]",
            "text/plain": [
              "<PIL.Image.Image image mode=RGB size=224x113 at 0x7FCF1803BCF8>"
            ]
          },
          "metadata": {
            "tags": []
          }
        },
        {
          "output_type": "stream",
          "text": [
            "0\n"
          ],
          "name": "stdout"
        },
        {
          "output_type": "display_data",
          "data": {
            "image/png": "[encoded data removed]",
            "text/plain": [
              "<PIL.Image.Image image mode=RGB size=224x113 at 0x7FCF1803BCF8>"
            ]
          },
          "metadata": {
            "tags": []
          }
        },
        {
          "output_type": "stream",
          "text": [
            "6\n"
          ],
          "name": "stdout"
        },
        {
          "output_type": "display_data",
          "data": {
            "image/png": "[encoded data removed]",
            "text/plain": [
              "<PIL.Image.Image image mode=RGB size=224x113 at 0x7FCF1803BCF8>"
            ]
          },
          "metadata": {
            "tags": []
          }
        },
        {
          "output_type": "stream",
          "text": [
            "3\n"
          ],
          "name": "stdout"
        },
        {
          "output_type": "display_data",
          "data": {
            "image/png": "[encoded data removed]",
            "text/plain": [
              "<PIL.Image.Image image mode=RGB size=224x113 at 0x7FCF1803BCF8>"
            ]
          },
          "metadata": {
            "tags": []
          }
        }
      ]
    },
    {
      "cell_type": "code",
      "metadata": {
        "id": "jLcTjBcc5nI5",
        "colab_type": "code",
        "colab": {}
      },
      "source": [
        "import numpy as np\n",
        "from sklearn.metrics import classification_report, confusion_matrix\n",
        "y_pred=model.predict_classes(x_test)\n",
        "#print(classification_report(np.argmax(y_pred),y_test))\n",
        "#print(confusion_matrix(np.argmax(y_pred),y_test))"
      ],
      "execution_count": 0,
      "outputs": []
    },
    {
      "cell_type": "code",
      "metadata": {
        "id": "qyACxNGH5nJA",
        "colab_type": "code",
        "outputId": "394f79b0-2f71-4280-c946-204842d95695",
        "colab": {
          "base_uri": "https://localhost:8080/",
          "height": 54
        }
      },
      "source": [
        "'''\n",
        "from keras.callbacks import ModelCheckpoints\n",
        "checkpoint=ModelCheckpoints('./path',mode='min',monitor=\"val_loss\",save_best_only=True,verbose=1)\n",
        "callbacks=[callbacks]\n",
        "#use callbacks while fitting\n",
        "'''\n",
        "'''\n",
        "from keras.callbacks import EarlyStopping\n",
        "EarlyStopping(monitor=\"val_loss\",min_delta=0, patience=3,verbose=1,restore_best_weights=True)\n",
        "callbacks=[callbacks]\n",
        "'''\n"
      ],
      "execution_count": 0,
      "outputs": [
        {
          "output_type": "execute_result",
          "data": {
            "text/plain": [
              "'\\nfrom keras.callbacks import EarlyStopping\\nEarlyStopping(monitor=\"val_loss\",min_delta=0, patience=3,verbose=1,restore_best_weights=True)\\ncallbacks=[callbacks]\\n'"
            ]
          },
          "metadata": {
            "tags": []
          },
          "execution_count": 17
        }
      ]
    },
    {
      "cell_type": "code",
      "metadata": {
        "id": "m5zvSXUo5nJE",
        "colab_type": "code",
        "colab": {}
      },
      "source": [
        ""
      ],
      "execution_count": 0,
      "outputs": []
    }
  ]
}